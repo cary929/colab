{
  "nbformat": 4,
  "nbformat_minor": 0,
  "metadata": {
    "colab": {
      "name": "Running Redis on Colab.ipynb",
      "provenance": [],
      "collapsed_sections": [],
      "include_colab_link": true
    },
    "kernelspec": {
      "name": "python3",
      "display_name": "Python 3"
    },
    "language_info": {
      "name": "python"
    }
  },
  "cells": [
    {
      "cell_type": "markdown",
      "metadata": {
        "id": "view-in-github",
        "colab_type": "text"
      },
      "source": [
        "<a href=\"https://colab.research.google.com/github/cary929/colab/blob/main/Running_Redis_on_Colab.ipynb\" target=\"_parent\"><img src=\"https://colab.research.google.com/assets/colab-badge.svg\" alt=\"Open In Colab\"/></a>"
      ]
    },
    {
      "cell_type": "markdown",
      "source": [
        "Install Redis and Redis python client:\n",
        "\n"
      ],
      "metadata": {
        "id": "Cc4rtPW3x3lp"
      }
    },
    {
      "cell_type": "code",
      "execution_count": null,
      "metadata": {
        "id": "9hR-YodOenoM",
        "colab": {
          "base_uri": "https://localhost:8080/"
        },
        "outputId": "17a41b40-548a-4575-85f3-1b39f3dc27d5"
      },
      "outputs": [
        {
          "output_type": "stream",
          "name": "stdout",
          "text": [
            "Collecting redis\n",
            "  Downloading redis-4.0.2-py3-none-any.whl (119 kB)\n",
            "\u001b[K     |████████████████████████████████| 119 kB 5.1 MB/s \n",
            "\u001b[?25hCollecting redis-server\n",
            "  Downloading redis_server-6.0.9-202010301343-cp37-cp37m-manylinux2010_x86_64.whl (5.5 MB)\n",
            "\u001b[K     |████████████████████████████████| 5.5 MB 20.2 MB/s \n",
            "\u001b[?25hCollecting deprecated\n",
            "  Downloading Deprecated-1.2.13-py2.py3-none-any.whl (9.6 kB)\n",
            "Requirement already satisfied: wrapt<2,>=1.10 in /usr/local/lib/python3.7/dist-packages (from deprecated->redis) (1.13.3)\n",
            "Installing collected packages: deprecated, redis-server, redis\n",
            "Successfully installed deprecated-1.2.13 redis-4.0.2 redis-server-6.0.9\n"
          ]
        }
      ],
      "source": [
        "%pip install redis redis-server"
      ]
    },
    {
      "cell_type": "markdown",
      "source": [
        "Start Redis Server"
      ],
      "metadata": {
        "id": "9IzJW3cShFZi"
      }
    },
    {
      "cell_type": "code",
      "source": [
        "import redis_server\n",
        "!$redis_server.REDIS_SERVER_PATH --daemonize yes"
      ],
      "metadata": {
        "id": "-MfrA0Ykepy0"
      },
      "execution_count": null,
      "outputs": []
    },
    {
      "cell_type": "markdown",
      "source": [
        "Check connection to server"
      ],
      "metadata": {
        "id": "4BnwUEVPMJQj"
      }
    },
    {
      "cell_type": "code",
      "source": [
        "import redis\n",
        "client = redis.Redis(host = 'localhost', port=6379)\n",
        "client.ping()"
      ],
      "metadata": {
        "colab": {
          "base_uri": "https://localhost:8080/"
        },
        "id": "CAn5ceOtMIjL",
        "outputId": "4ca0effb-5caf-4821-8e45-872383dea43a"
      },
      "execution_count": null,
      "outputs": [
        {
          "output_type": "execute_result",
          "data": {
            "text/plain": [
              "True"
            ]
          },
          "metadata": {},
          "execution_count": 5
        }
      ]
    },
    {
      "cell_type": "markdown",
      "source": [
        "Using Redis Commands"
      ],
      "metadata": {
        "id": "CLvNCBtwhN8J"
      }
    },
    {
      "cell_type": "code",
      "source": [
        "client.set('foo', 'bar')\n",
        "client.get('foo')"
      ],
      "metadata": {
        "colab": {
          "base_uri": "https://localhost:8080/"
        },
        "id": "Pq2bpLfwerxN",
        "outputId": "bc492047-b698-4b33-e8c0-cd6243affeb9"
      },
      "execution_count": null,
      "outputs": [
        {
          "output_type": "execute_result",
          "data": {
            "text/plain": [
              "b'bar'"
            ]
          },
          "metadata": {},
          "execution_count": 6
        }
      ]
    }
  ]
}